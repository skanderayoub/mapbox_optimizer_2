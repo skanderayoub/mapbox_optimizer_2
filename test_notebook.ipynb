{
 "cells": [
  {
   "cell_type": "code",
   "execution_count": 13,
   "id": "7566d68b",
   "metadata": {},
   "outputs": [],
   "source": [
    "from models.user import User\n",
    "from models.scheduleEntry import ScheduleEntry\n",
    "from models.mapbox import MapboxOptimizer\n",
    "import firebase\n",
    "import random\n",
    "from datetime import datetime, time, timedelta\n",
    "import folium"
   ]
  },
  {
   "cell_type": "code",
   "execution_count": 14,
   "id": "17e62e41",
   "metadata": {},
   "outputs": [],
   "source": [
    "firebase.delete_all_collections()"
   ]
  },
  {
   "cell_type": "code",
   "execution_count": 15,
   "id": "a44e87b1",
   "metadata": {},
   "outputs": [],
   "source": [
    "def display_route(route, waypoints=None):\n",
    "    route_coords = [(point['lat'], point['lng']) for point in route['geometry']]\n",
    "\n",
    "    # Center map on the first point\n",
    "    m = folium.Map(location=route_coords[0])\n",
    "\n",
    "    # Add the route as a PolyLine\n",
    "    folium.PolyLine(route_coords, color=\"blue\", weight=5, opacity=0.8).add_to(m)\n",
    "\n",
    "    if waypoints is not None:\n",
    "        new_waypoints = [waypoints[i] for i in route[\"waypoint_indices\"]]\n",
    "        for waypoint in new_waypoints:\n",
    "            folium.Marker(waypoint).add_to(m)\n",
    "    else:\n",
    "        folium.Marker(route_coords[0], tooltip=\"Start\").add_to(m)\n",
    "        folium.Marker(route_coords[-1], tooltip=\"End\").add_to(m)\n",
    "    # Display the map\n",
    "    m.fit_bounds(route_coords)\n",
    "    return m"
   ]
  },
  {
   "cell_type": "code",
   "execution_count": 16,
   "id": "068b7607",
   "metadata": {},
   "outputs": [],
   "source": [
    "def generate_random_date():\n",
    "    today = datetime.now().date()\n",
    "    one_week_later = today + timedelta(days=7)\n",
    "    delta_days = (one_week_later - today).days\n",
    "    random_days = random.randint(0, delta_days)\n",
    "    return today + timedelta(days=random_days)\n",
    "\n",
    "def generate_random_time(start_hour=6, end_hour=19):\n",
    "    hour = random.randint(start_hour, end_hour-1)\n",
    "    minute = random.choice([0, 15, 30, 45])\n",
    "    return time(hour, minute)"
   ]
  },
  {
   "cell_type": "code",
   "execution_count": 17,
   "id": "0db48789",
   "metadata": {},
   "outputs": [],
   "source": [
    "users = []\n",
    "for i in range(5):\n",
    "    users.append(User(save_object=True))"
   ]
  },
  {
   "cell_type": "code",
   "execution_count": 18,
   "id": "2da340e7",
   "metadata": {},
   "outputs": [],
   "source": [
    "scheduleEntries = []\n",
    "for i in range(20):\n",
    "    user: User = random.choice(users)\n",
    "    role = random.choice([\"driver\", \"rider\"])\n",
    "    date = generate_random_date()\n",
    "    start_time = generate_random_time()\n",
    "    arrival_delta = timedelta(minutes=random.randint(15, 90))\n",
    "    arrival_datetime = datetime.combine(date, start_time) + arrival_delta\n",
    "    arrival_time = arrival_datetime.time()\n",
    "    max_delay = random.randint(10, 30)\n",
    "    direction = \"work\" if start_time < time(12, 0) else \"home\"\n",
    "    scheduleEntries.append(ScheduleEntry(user.id, role=role, date=date, start_time=start_time, arrival_time=arrival_time, max_delay=max_delay, save_object=True, direction=direction))"
   ]
  },
  {
   "cell_type": "code",
   "execution_count": 19,
   "id": "188216f1",
   "metadata": {},
   "outputs": [
    {
     "name": "stdout",
     "output_type": "stream",
     "text": [
      "8\n"
     ]
    }
   ],
   "source": [
    "rides = firebase.get_all_rides()\n",
    "#for ride in rides:\n",
    "#    driver = firebase.get_user(ride.user_id)\n",
    "    #print(f\"Ride driver: {driver.firstName} {driver.lastName}\")\n",
    "print(len(rides))"
   ]
  },
  {
   "cell_type": "code",
   "execution_count": 20,
   "id": "6bf325ac",
   "metadata": {},
   "outputs": [
    {
     "name": "stdout",
     "output_type": "stream",
     "text": [
      "Found 1 schedule entries for Mehdi Mathlouthi\n",
      "17:00:00 28 rider\n",
      "\n",
      "Found 4 schedule entries for Mehdi Jebali\n",
      "10:00:00 19 driver\n",
      "17:30:00 28 driver\n",
      "13:30:00 10 driver\n",
      "14:30:00 24 rider\n",
      "\n",
      "Found 4 schedule entries for Aisha Dridi\n",
      "11:45:00 27 rider\n",
      "13:00:00 11 rider\n",
      "08:30:00 27 rider\n",
      "13:45:00 14 rider\n",
      "\n",
      "Found 5 schedule entries for Fatma Bachiri\n",
      "17:45:00 24 rider\n",
      "06:30:00 16 driver\n",
      "09:15:00 13 driver\n",
      "16:00:00 17 driver\n",
      "12:30:00 23 driver\n",
      "\n",
      "Found 6 schedule entries for Emna Belhadj\n",
      "10:15:00 26 rider\n",
      "07:45:00 10 rider\n",
      "15:15:00 28 rider\n",
      "13:00:00 30 rider\n",
      "16:15:00 28 driver\n",
      "12:00:00 10 rider\n",
      "\n"
     ]
    }
   ],
   "source": [
    "firebase_users = firebase.get_all_users()\n",
    "for user in firebase_users:\n",
    "    schedules = firebase.get_schedule_for_user(user_id=user.id)\n",
    "    print(f\"Found {len(schedules)} schedule entries for {user.firstName} {user.lastName}\")\n",
    "    for schedule in schedules:\n",
    "        print(schedule.start_time, schedule.max_delay, schedule.role)\n",
    "    print(\"\")"
   ]
  },
  {
   "cell_type": "code",
   "execution_count": 21,
   "id": "67402c59",
   "metadata": {},
   "outputs": [],
   "source": [
    "optimizer = MapboxOptimizer()"
   ]
  },
  {
   "cell_type": "code",
   "execution_count": 22,
   "id": "98a9602f",
   "metadata": {},
   "outputs": [
    {
     "name": "stdout",
     "output_type": "stream",
     "text": [
      "Mehdi\n",
      "Fatma\n",
      "Emna\n"
     ]
    }
   ],
   "source": [
    "db = firebase.db\n",
    "stihl_users = [User.from_dict(doc.to_dict()) for doc in db.collection('users').where('company', '==', 'STIHL').stream()]\n",
    "for user in stihl_users:\n",
    "    print(user.firstName)"
   ]
  },
  {
   "cell_type": "code",
   "execution_count": 23,
   "id": "d0831002",
   "metadata": {},
   "outputs": [],
   "source": [
    "route = optimizer.calculate_direct_route(start=users[0].home, end=users[0].work)\n",
    "m = display_route(route)"
   ]
  },
  {
   "cell_type": "code",
   "execution_count": 24,
   "id": "f014eb26",
   "metadata": {},
   "outputs": [
    {
     "data": {
      "text/html": [
       "<div style=\"width:100%;\"><div style=\"position:relative;width:100%;height:0;padding-bottom:60%;\"><span style=\"color:#565656\">Make this Notebook Trusted to load map: File -> Trust Notebook</span><iframe srcdoc=\"&lt;!DOCTYPE html&gt;\n",
       "&lt;html&gt;\n",
       "&lt;head&gt;\n",
       "    \n",
       "    &lt;meta http-equiv=&quot;content-type&quot; content=&quot;text/html; charset=UTF-8&quot; /&gt;\n",
       "    \n",
       "        &lt;script&gt;\n",
       "            L_NO_TOUCH = false;\n",
       "            L_DISABLE_3D = false;\n",
       "        &lt;/script&gt;\n",
       "    \n",
       "    &lt;style&gt;html, body {width: 100%;height: 100%;margin: 0;padding: 0;}&lt;/style&gt;\n",
       "    &lt;style&gt;#map {position:absolute;top:0;bottom:0;right:0;left:0;}&lt;/style&gt;\n",
       "    &lt;script src=&quot;https://cdn.jsdelivr.net/npm/leaflet@1.9.3/dist/leaflet.js&quot;&gt;&lt;/script&gt;\n",
       "    &lt;script src=&quot;https://code.jquery.com/jquery-3.7.1.min.js&quot;&gt;&lt;/script&gt;\n",
       "    &lt;script src=&quot;https://cdn.jsdelivr.net/npm/bootstrap@5.2.2/dist/js/bootstrap.bundle.min.js&quot;&gt;&lt;/script&gt;\n",
       "    &lt;script src=&quot;https://cdnjs.cloudflare.com/ajax/libs/Leaflet.awesome-markers/2.0.2/leaflet.awesome-markers.js&quot;&gt;&lt;/script&gt;\n",
       "    &lt;link rel=&quot;stylesheet&quot; href=&quot;https://cdn.jsdelivr.net/npm/leaflet@1.9.3/dist/leaflet.css&quot;/&gt;\n",
       "    &lt;link rel=&quot;stylesheet&quot; href=&quot;https://cdn.jsdelivr.net/npm/bootstrap@5.2.2/dist/css/bootstrap.min.css&quot;/&gt;\n",
       "    &lt;link rel=&quot;stylesheet&quot; href=&quot;https://netdna.bootstrapcdn.com/bootstrap/3.0.0/css/bootstrap-glyphicons.css&quot;/&gt;\n",
       "    &lt;link rel=&quot;stylesheet&quot; href=&quot;https://cdn.jsdelivr.net/npm/@fortawesome/fontawesome-free@6.2.0/css/all.min.css&quot;/&gt;\n",
       "    &lt;link rel=&quot;stylesheet&quot; href=&quot;https://cdnjs.cloudflare.com/ajax/libs/Leaflet.awesome-markers/2.0.2/leaflet.awesome-markers.css&quot;/&gt;\n",
       "    &lt;link rel=&quot;stylesheet&quot; href=&quot;https://cdn.jsdelivr.net/gh/python-visualization/folium/folium/templates/leaflet.awesome.rotate.min.css&quot;/&gt;\n",
       "    \n",
       "            &lt;meta name=&quot;viewport&quot; content=&quot;width=device-width,\n",
       "                initial-scale=1.0, maximum-scale=1.0, user-scalable=no&quot; /&gt;\n",
       "            &lt;style&gt;\n",
       "                #map_2052ee83b60e711f210905a63d747027 {\n",
       "                    position: relative;\n",
       "                    width: 100.0%;\n",
       "                    height: 100.0%;\n",
       "                    left: 0.0%;\n",
       "                    top: 0.0%;\n",
       "                }\n",
       "                .leaflet-container { font-size: 1rem; }\n",
       "            &lt;/style&gt;\n",
       "        \n",
       "&lt;/head&gt;\n",
       "&lt;body&gt;\n",
       "    \n",
       "    \n",
       "            &lt;div class=&quot;folium-map&quot; id=&quot;map_2052ee83b60e711f210905a63d747027&quot; &gt;&lt;/div&gt;\n",
       "        \n",
       "&lt;/body&gt;\n",
       "&lt;script&gt;\n",
       "    \n",
       "    \n",
       "            var map_2052ee83b60e711f210905a63d747027 = L.map(\n",
       "                &quot;map_2052ee83b60e711f210905a63d747027&quot;,\n",
       "                {\n",
       "                    center: [48.760293, 9.253992],\n",
       "                    crs: L.CRS.EPSG3857,\n",
       "                    ...{\n",
       "  &quot;zoom&quot;: 10,\n",
       "  &quot;zoomControl&quot;: true,\n",
       "  &quot;preferCanvas&quot;: false,\n",
       "}\n",
       "\n",
       "                }\n",
       "            );\n",
       "\n",
       "            \n",
       "\n",
       "        \n",
       "    \n",
       "            var tile_layer_e55026502e467925a6a81467fd2f4c51 = L.tileLayer(\n",
       "                &quot;https://tile.openstreetmap.org/{z}/{x}/{y}.png&quot;,\n",
       "                {\n",
       "  &quot;minZoom&quot;: 0,\n",
       "  &quot;maxZoom&quot;: 19,\n",
       "  &quot;maxNativeZoom&quot;: 19,\n",
       "  &quot;noWrap&quot;: false,\n",
       "  &quot;attribution&quot;: &quot;\\u0026copy; \\u003ca href=\\&quot;https://www.openstreetmap.org/copyright\\&quot;\\u003eOpenStreetMap\\u003c/a\\u003e contributors&quot;,\n",
       "  &quot;subdomains&quot;: &quot;abc&quot;,\n",
       "  &quot;detectRetina&quot;: false,\n",
       "  &quot;tms&quot;: false,\n",
       "  &quot;opacity&quot;: 1,\n",
       "}\n",
       "\n",
       "            );\n",
       "        \n",
       "    \n",
       "            tile_layer_e55026502e467925a6a81467fd2f4c51.addTo(map_2052ee83b60e711f210905a63d747027);\n",
       "        \n",
       "    \n",
       "            var poly_line_f279b037704f59b85799cce9e8ec140a = L.polyline(\n",
       "                [[48.760293, 9.253992], [48.760161, 9.254088], [48.760126, 9.254115], [48.759731, 9.254405], [48.759694, 9.254455], [48.759684, 9.25447], [48.759659, 9.254519], [48.759608, 9.254606], [48.759554, 9.254771], [48.759637, 9.254954], [48.759754, 9.255191], [48.759851, 9.255372], [48.760034, 9.255728], [48.760047, 9.255754], [48.760102, 9.255868], [48.760217, 9.256107], [48.760383, 9.256468], [48.760402, 9.256511], [48.760406, 9.256521], [48.760477, 9.256695], [48.760533, 9.256845], [48.760651, 9.257163], [48.760664, 9.257198], [48.760722, 9.257358], [48.760807, 9.257301], [48.760879, 9.257252], [48.760903, 9.257238], [48.760932, 9.257222], [48.760995, 9.257186], [48.761306, 9.256977], [48.761631, 9.256753], [48.762482, 9.256186], [48.762879, 9.255918], [48.763166, 9.255415], [48.764246, 9.254707], [48.766116, 9.253458], [48.767339, 9.252644], [48.767825, 9.252312], [48.768352, 9.251935], [48.768903, 9.251534], [48.769441, 9.251122], [48.772005, 9.249155], [48.772312, 9.248916], [48.773458, 9.248032], [48.773899, 9.24769], [48.774417, 9.247284], [48.774773, 9.246967], [48.775147, 9.246605], [48.775557, 9.246164], [48.775943, 9.245682], [48.776514, 9.244916], [48.777611, 9.243413], [48.778827, 9.241674], [48.779232, 9.241105], [48.780168, 9.239742], [48.780422, 9.239337], [48.780702, 9.238877], [48.780987, 9.238365], [48.781189, 9.237995], [48.781325, 9.237743], [48.781446, 9.237505], [48.782046, 9.236353], [48.782578, 9.235284], [48.78517, 9.230062], [48.786027, 9.228348], [48.786418, 9.227566], [48.78655, 9.227316], [48.787774, 9.224884], [48.787897, 9.22464], [48.787951, 9.224581], [48.788077, 9.224473], [48.788113, 9.224434], [48.788289, 9.224169], [48.788408, 9.223962], [48.78865, 9.223489], [48.788869, 9.223058], [48.789246, 9.222326], [48.789271, 9.22228], [48.78929, 9.222247], [48.789356, 9.22213], [48.789327, 9.222093], [48.789223, 9.22196], [48.789118, 9.221822], [48.789108, 9.221809], [48.789079, 9.221772], [48.78901, 9.221687], [48.788818, 9.221426], [48.788686, 9.221257], [48.788631, 9.221186], [48.788427, 9.220915], [48.788194, 9.220608], [48.788143, 9.220539], [48.788105, 9.220489], [48.788049, 9.220415], [48.788027, 9.220496], [48.787988, 9.220583], [48.787966, 9.220611], [48.787947, 9.220636], [48.787902, 9.220684], [48.787521, 9.22109], [48.787091, 9.221578], [48.786519, 9.22218], [48.786241, 9.222477], [48.785809, 9.222981], [48.784579, 9.224335], [48.784151, 9.224816], [48.783795, 9.225199], [48.783593, 9.225416], [48.783499, 9.225526], [48.783292, 9.225769], [48.783259, 9.2257], [48.783244, 9.225668], [48.783143, 9.225447], [48.783056, 9.225258]],\n",
       "                {&quot;bubblingMouseEvents&quot;: true, &quot;color&quot;: &quot;blue&quot;, &quot;dashArray&quot;: null, &quot;dashOffset&quot;: null, &quot;fill&quot;: false, &quot;fillColor&quot;: &quot;blue&quot;, &quot;fillOpacity&quot;: 0.2, &quot;fillRule&quot;: &quot;evenodd&quot;, &quot;lineCap&quot;: &quot;round&quot;, &quot;lineJoin&quot;: &quot;round&quot;, &quot;noClip&quot;: false, &quot;opacity&quot;: 0.8, &quot;smoothFactor&quot;: 1.0, &quot;stroke&quot;: true, &quot;weight&quot;: 5}\n",
       "            ).addTo(map_2052ee83b60e711f210905a63d747027);\n",
       "        \n",
       "    \n",
       "            var marker_771cd75819286ff2ee7060ce0ce20ae5 = L.marker(\n",
       "                [48.760293, 9.253992],\n",
       "                {\n",
       "}\n",
       "            ).addTo(map_2052ee83b60e711f210905a63d747027);\n",
       "        \n",
       "    \n",
       "            marker_771cd75819286ff2ee7060ce0ce20ae5.bindTooltip(\n",
       "                `&lt;div&gt;\n",
       "                     Start\n",
       "                 &lt;/div&gt;`,\n",
       "                {\n",
       "  &quot;sticky&quot;: true,\n",
       "}\n",
       "            );\n",
       "        \n",
       "    \n",
       "            var marker_7a5112d3f7b0f962705a9cbf2e681807 = L.marker(\n",
       "                [48.783056, 9.225258],\n",
       "                {\n",
       "}\n",
       "            ).addTo(map_2052ee83b60e711f210905a63d747027);\n",
       "        \n",
       "    \n",
       "            marker_7a5112d3f7b0f962705a9cbf2e681807.bindTooltip(\n",
       "                `&lt;div&gt;\n",
       "                     End\n",
       "                 &lt;/div&gt;`,\n",
       "                {\n",
       "  &quot;sticky&quot;: true,\n",
       "}\n",
       "            );\n",
       "        \n",
       "    \n",
       "            map_2052ee83b60e711f210905a63d747027.fitBounds(\n",
       "                [[48.760293, 9.253992], [48.760161, 9.254088], [48.760126, 9.254115], [48.759731, 9.254405], [48.759694, 9.254455], [48.759684, 9.25447], [48.759659, 9.254519], [48.759608, 9.254606], [48.759554, 9.254771], [48.759637, 9.254954], [48.759754, 9.255191], [48.759851, 9.255372], [48.760034, 9.255728], [48.760047, 9.255754], [48.760102, 9.255868], [48.760217, 9.256107], [48.760383, 9.256468], [48.760402, 9.256511], [48.760406, 9.256521], [48.760477, 9.256695], [48.760533, 9.256845], [48.760651, 9.257163], [48.760664, 9.257198], [48.760722, 9.257358], [48.760807, 9.257301], [48.760879, 9.257252], [48.760903, 9.257238], [48.760932, 9.257222], [48.760995, 9.257186], [48.761306, 9.256977], [48.761631, 9.256753], [48.762482, 9.256186], [48.762879, 9.255918], [48.763166, 9.255415], [48.764246, 9.254707], [48.766116, 9.253458], [48.767339, 9.252644], [48.767825, 9.252312], [48.768352, 9.251935], [48.768903, 9.251534], [48.769441, 9.251122], [48.772005, 9.249155], [48.772312, 9.248916], [48.773458, 9.248032], [48.773899, 9.24769], [48.774417, 9.247284], [48.774773, 9.246967], [48.775147, 9.246605], [48.775557, 9.246164], [48.775943, 9.245682], [48.776514, 9.244916], [48.777611, 9.243413], [48.778827, 9.241674], [48.779232, 9.241105], [48.780168, 9.239742], [48.780422, 9.239337], [48.780702, 9.238877], [48.780987, 9.238365], [48.781189, 9.237995], [48.781325, 9.237743], [48.781446, 9.237505], [48.782046, 9.236353], [48.782578, 9.235284], [48.78517, 9.230062], [48.786027, 9.228348], [48.786418, 9.227566], [48.78655, 9.227316], [48.787774, 9.224884], [48.787897, 9.22464], [48.787951, 9.224581], [48.788077, 9.224473], [48.788113, 9.224434], [48.788289, 9.224169], [48.788408, 9.223962], [48.78865, 9.223489], [48.788869, 9.223058], [48.789246, 9.222326], [48.789271, 9.22228], [48.78929, 9.222247], [48.789356, 9.22213], [48.789327, 9.222093], [48.789223, 9.22196], [48.789118, 9.221822], [48.789108, 9.221809], [48.789079, 9.221772], [48.78901, 9.221687], [48.788818, 9.221426], [48.788686, 9.221257], [48.788631, 9.221186], [48.788427, 9.220915], [48.788194, 9.220608], [48.788143, 9.220539], [48.788105, 9.220489], [48.788049, 9.220415], [48.788027, 9.220496], [48.787988, 9.220583], [48.787966, 9.220611], [48.787947, 9.220636], [48.787902, 9.220684], [48.787521, 9.22109], [48.787091, 9.221578], [48.786519, 9.22218], [48.786241, 9.222477], [48.785809, 9.222981], [48.784579, 9.224335], [48.784151, 9.224816], [48.783795, 9.225199], [48.783593, 9.225416], [48.783499, 9.225526], [48.783292, 9.225769], [48.783259, 9.2257], [48.783244, 9.225668], [48.783143, 9.225447], [48.783056, 9.225258]],\n",
       "                {}\n",
       "            );\n",
       "        \n",
       "&lt;/script&gt;\n",
       "&lt;/html&gt;\" style=\"position:absolute;width:100%;height:100%;left:0;top:0;border:none !important;\" allowfullscreen webkitallowfullscreen mozallowfullscreen></iframe></div></div>"
      ],
      "text/plain": [
       "<folium.folium.Map at 0x21e16817cd0>"
      ]
     },
     "execution_count": 24,
     "metadata": {},
     "output_type": "execute_result"
    }
   ],
   "source": [
    "m"
   ]
  }
 ],
 "metadata": {
  "kernelspec": {
   "display_name": "covoit",
   "language": "python",
   "name": "python3"
  },
  "language_info": {
   "codemirror_mode": {
    "name": "ipython",
    "version": 3
   },
   "file_extension": ".py",
   "mimetype": "text/x-python",
   "name": "python",
   "nbconvert_exporter": "python",
   "pygments_lexer": "ipython3",
   "version": "3.11.11"
  }
 },
 "nbformat": 4,
 "nbformat_minor": 5
}
