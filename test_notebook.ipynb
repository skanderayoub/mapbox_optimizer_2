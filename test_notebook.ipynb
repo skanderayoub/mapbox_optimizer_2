{
 "cells": [
  {
   "cell_type": "code",
   "execution_count": 265,
   "id": "74107bda",
   "metadata": {},
   "outputs": [],
   "source": [
    "from models.user import User\n",
    "from models.scheduleEntry import ScheduleEntry\n",
    "from models.mapbox import MapboxOptimizer\n",
    "import firebase\n",
    "import random\n",
    "from datetime import datetime, time\n",
    "import folium\n",
    "\n",
    "\n",
    "firebase.delete_all_collections()"
   ]
  },
  {
   "cell_type": "code",
   "execution_count": 266,
   "id": "a44e87b1",
   "metadata": {},
   "outputs": [],
   "source": [
    "def display_route(route, waypoints=None):\n",
    "    route_coords = [(point['lat'], point['lng']) for point in route['geometry']]\n",
    "\n",
    "    # Center map on the first point\n",
    "    m = folium.Map(location=route_coords[0], zoom_start=15)\n",
    "\n",
    "    # Add the route as a PolyLine\n",
    "    folium.PolyLine(route_coords, color=\"blue\", weight=5, opacity=0.8).add_to(m)\n",
    "\n",
    "    if waypoints is not None:\n",
    "        new_waypoints = [waypoints[i] for i in route[\"waypoint_indices\"]]\n",
    "        for waypoint in new_waypoints:\n",
    "            folium.Marker(waypoint).add_to(m)\n",
    "    else:\n",
    "        folium.Marker(route_coords[0], tooltip=\"Start\").add_to(m)\n",
    "        folium.Marker(route_coords[-1], tooltip=\"End\").add_to(m)\n",
    "    # Display the map\n",
    "    return m"
   ]
  },
  {
   "cell_type": "code",
   "execution_count": 267,
   "id": "0db48789",
   "metadata": {},
   "outputs": [],
   "source": [
    "driver = User(save_object=True)\n",
    "rider = User(save_object=True)\n",
    "rider2 = User(save_object=True)"
   ]
  },
  {
   "cell_type": "code",
   "execution_count": 268,
   "id": "0f0a6c99",
   "metadata": {},
   "outputs": [],
   "source": [
    "driveEntry = ScheduleEntry(\n",
    "    user_id=driver.id,\n",
    "    date=datetime.now(),\n",
    "    start_time=time(8, 0),\n",
    "    arrival_time=time(9, 0),\n",
    "    max_delay=15,\n",
    "    role=\"driver\",\n",
    "    save_object=True\n",
    ")\n",
    "rideEntry = ScheduleEntry(\n",
    "    user_id=rider.id,\n",
    "    date=datetime.now(),\n",
    "    start_time=time(8, 0),\n",
    "    arrival_time=time(9, 0),\n",
    "    max_delay=15,\n",
    "    role=\"rider\",\n",
    "    save_object=True\n",
    ")\n",
    "rideEntry2 = ScheduleEntry(\n",
    "    user_id=rider2.id,\n",
    "    date=datetime.now(),\n",
    "    start_time=time(8, 0),\n",
    "    arrival_time=time(9, 0),\n",
    "    max_delay=15,\n",
    "    role=\"rider\",\n",
    "    save_object=True\n",
    ")"
   ]
  },
  {
   "cell_type": "code",
   "execution_count": 269,
   "id": "39a7d402",
   "metadata": {},
   "outputs": [
    {
     "data": {
      "text/plain": [
       "<models.ride.Ride at 0x22fdfb273d0>"
      ]
     },
     "execution_count": 269,
     "metadata": {},
     "output_type": "execute_result"
    }
   ],
   "source": [
    "ride = firebase.get_ride(driveEntry.ride_id)\n",
    "ride"
   ]
  },
  {
   "cell_type": "code",
   "execution_count": 270,
   "id": "fa737685",
   "metadata": {},
   "outputs": [
    {
     "data": {
      "text/plain": [
       "<models.ridePassegenrs.RidePassenger at 0x22fdfcba550>"
      ]
     },
     "execution_count": 270,
     "metadata": {},
     "output_type": "execute_result"
    }
   ],
   "source": [
    "firebase.add_ride_passenger(ride_id=ride.id, user_id=rider.id)"
   ]
  },
  {
   "cell_type": "code",
   "execution_count": 271,
   "id": "2eef6764",
   "metadata": {},
   "outputs": [],
   "source": [
    "firebase.remove_ride_passenger(ride_id=ride.id, user_id=rider.id)"
   ]
  },
  {
   "cell_type": "code",
   "execution_count": 272,
   "id": "67402c59",
   "metadata": {},
   "outputs": [],
   "source": [
    "optimizer = MapboxOptimizer()"
   ]
  },
  {
   "cell_type": "code",
   "execution_count": 273,
   "id": "98a9602f",
   "metadata": {},
   "outputs": [],
   "source": [
    "route = optimizer.calculate_direct_route(driver.home, driver.work)"
   ]
  },
  {
   "cell_type": "code",
   "execution_count": 277,
   "id": "c5bbc327",
   "metadata": {},
   "outputs": [
    {
     "data": {
      "text/plain": [
       "<models.ridePassegenrs.RidePassenger at 0x22fdfe6b9d0>"
      ]
     },
     "execution_count": 277,
     "metadata": {},
     "output_type": "execute_result"
    }
   ],
   "source": [
    "firebase.add_ride_passenger(driveEntry.ride_id, rider.id)"
   ]
  },
  {
   "cell_type": "code",
   "execution_count": null,
   "id": "ab6167f2",
   "metadata": {},
   "outputs": [],
   "source": []
  }
 ],
 "metadata": {
  "kernelspec": {
   "display_name": "covoit",
   "language": "python",
   "name": "python3"
  },
  "language_info": {
   "codemirror_mode": {
    "name": "ipython",
    "version": 3
   },
   "file_extension": ".py",
   "mimetype": "text/x-python",
   "name": "python",
   "nbconvert_exporter": "python",
   "pygments_lexer": "ipython3",
   "version": "3.11.11"
  }
 },
 "nbformat": 4,
 "nbformat_minor": 5
}
