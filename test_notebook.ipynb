{
 "cells": [
  {
   "cell_type": "code",
   "execution_count": 1,
   "id": "74107bda",
   "metadata": {},
   "outputs": [],
   "source": [
    "from models.user import User\n",
    "from models.scheduleEntry import ScheduleEntry\n",
    "from models.mapbox import MapboxOptimizer\n",
    "import firebase\n",
    "import random\n",
    "from datetime import datetime, time, timedelta\n",
    "import folium\n",
    "\n",
    "firebase.delete_all_collections()"
   ]
  },
  {
   "cell_type": "code",
   "execution_count": 2,
   "id": "a44e87b1",
   "metadata": {},
   "outputs": [],
   "source": [
    "def display_route(route, waypoints=None):\n",
    "    route_coords = [(point['lat'], point['lng']) for point in route['geometry']]\n",
    "\n",
    "    # Center map on the first point\n",
    "    m = folium.Map(location=route_coords[0], zoom_start=15)\n",
    "\n",
    "    # Add the route as a PolyLine\n",
    "    folium.PolyLine(route_coords, color=\"blue\", weight=5, opacity=0.8).add_to(m)\n",
    "\n",
    "    if waypoints is not None:\n",
    "        new_waypoints = [waypoints[i] for i in route[\"waypoint_indices\"]]\n",
    "        for waypoint in new_waypoints:\n",
    "            folium.Marker(waypoint).add_to(m)\n",
    "    else:\n",
    "        folium.Marker(route_coords[0], tooltip=\"Start\").add_to(m)\n",
    "        folium.Marker(route_coords[-1], tooltip=\"End\").add_to(m)\n",
    "    # Display the map\n",
    "    return m"
   ]
  },
  {
   "cell_type": "code",
   "execution_count": 3,
   "id": "068b7607",
   "metadata": {},
   "outputs": [],
   "source": [
    "def generate_random_date():\n",
    "    today = datetime.now().date()\n",
    "    one_week_later = today + timedelta(days=7)\n",
    "    delta_days = (one_week_later - today).days\n",
    "    random_days = random.randint(0, delta_days)\n",
    "    return today + timedelta(days=random_days)\n",
    "\n",
    "def generate_random_time(start_hour=6, end_hour=19):\n",
    "    hour = random.randint(start_hour, end_hour-1)\n",
    "    minute = random.choice([0, 15, 30, 45])\n",
    "    return time(hour, minute)"
   ]
  },
  {
   "cell_type": "code",
   "execution_count": 4,
   "id": "0db48789",
   "metadata": {},
   "outputs": [],
   "source": [
    "users = []\n",
    "for i in range(5):\n",
    "    users.append(User(save_object=True))"
   ]
  },
  {
   "cell_type": "code",
   "execution_count": 5,
   "id": "2da340e7",
   "metadata": {},
   "outputs": [],
   "source": [
    "scheduleEntries = []\n",
    "for i in range(20):\n",
    "    user: User = random.choice(users)\n",
    "    role = random.choice([\"driver\", \"rider\"])\n",
    "    date = generate_random_date()\n",
    "    start_time = generate_random_time()\n",
    "    arrival_delta = timedelta(minutes=random.randint(15, 90))\n",
    "    arrival_datetime = datetime.combine(date, start_time) + arrival_delta\n",
    "    arrival_time = arrival_datetime.time()\n",
    "    max_delay = random.randint(10, 30)\n",
    "    direction = \"work\" if start_time < time(12, 0) else \"home\"\n",
    "    scheduleEntries.append(ScheduleEntry(user.id, role=role, date=date, start_time=start_time, arrival_time=arrival_time, max_delay=max_delay, save_object=True, direction=direction))"
   ]
  },
  {
   "cell_type": "code",
   "execution_count": 12,
   "id": "188216f1",
   "metadata": {},
   "outputs": [
    {
     "name": "stdout",
     "output_type": "stream",
     "text": [
      "7\n"
     ]
    }
   ],
   "source": [
    "rides = firebase.get_all_rides()\n",
    "#for ride in rides:\n",
    "#    driver = firebase.get_user(ride.user_id)\n",
    "    #print(f\"Ride driver: {driver.firstName} {driver.lastName}\")\n",
    "print(len(rides))"
   ]
  },
  {
   "cell_type": "code",
   "execution_count": 14,
   "id": "6bf325ac",
   "metadata": {},
   "outputs": [
    {
     "name": "stdout",
     "output_type": "stream",
     "text": [
      "Found 4 schedule entries for Hiba Ayedi\n",
      "11:45:00 11 driver\n",
      "08:15:00 21 rider\n",
      "17:00:00 17 driver\n",
      "16:15:00 20 rider\n",
      "\n",
      "Found 4 schedule entries for Kaisoun Mzali\n",
      "17:00:00 17 rider\n",
      "12:15:00 18 rider\n",
      "16:30:00 30 driver\n",
      "11:00:00 28 rider\n",
      "\n",
      "Found 5 schedule entries for Souad Ben Romdhane\n",
      "15:00:00 28 rider\n",
      "17:00:00 22 driver\n",
      "15:30:00 12 driver\n",
      "11:30:00 21 rider\n",
      "07:00:00 22 driver\n",
      "\n",
      "Found 5 schedule entries for Hiba Sayyadi\n",
      "16:00:00 12 driver\n",
      "09:45:00 29 rider\n",
      "07:00:00 29 rider\n",
      "14:30:00 10 rider\n",
      "18:15:00 28 rider\n",
      "\n",
      "Found 2 schedule entries for Leila Nafzaoui\n",
      "13:00:00 27 rider\n",
      "15:00:00 16 rider\n",
      "\n"
     ]
    }
   ],
   "source": [
    "firebase_users = firebase.get_all_users();\n",
    "for user in firebase_users:\n",
    "    schedules = firebase.get_schedule_for_user(user_id=user.id)\n",
    "    print(f\"Found {len(schedules)} schedule entries for {user.firstName} {user.lastName}\")\n",
    "    for schedule in schedules:\n",
    "        print(schedule.start_time, schedule.max_delay, schedule.role)\n",
    "    print(\"\")"
   ]
  },
  {
   "cell_type": "code",
   "execution_count": 10,
   "id": "67402c59",
   "metadata": {},
   "outputs": [],
   "source": [
    "optimizer = MapboxOptimizer()"
   ]
  },
  {
   "cell_type": "code",
   "execution_count": 11,
   "id": "98a9602f",
   "metadata": {},
   "outputs": [
    {
     "name": "stdout",
     "output_type": "stream",
     "text": [
      "Hiba\n",
      "Hiba\n",
      "Leila\n"
     ]
    }
   ],
   "source": [
    "db = firebase.db\n",
    "stihl_users = [User.from_dict(doc.to_dict()) for doc in db.collection('users').where('company', '==', 'STIHL').stream()]\n",
    "for user in stihl_users:\n",
    "    print(user.firstName)"
   ]
  }
 ],
 "metadata": {
  "kernelspec": {
   "display_name": "covoit",
   "language": "python",
   "name": "python3"
  },
  "language_info": {
   "codemirror_mode": {
    "name": "ipython",
    "version": 3
   },
   "file_extension": ".py",
   "mimetype": "text/x-python",
   "name": "python",
   "nbconvert_exporter": "python",
   "pygments_lexer": "ipython3",
   "version": "3.11.11"
  }
 },
 "nbformat": 4,
 "nbformat_minor": 5
}
